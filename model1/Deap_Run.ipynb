{
 "cells": [
  {
   "cell_type": "code",
   "execution_count": 2,
   "id": "dressed-cartoon",
   "metadata": {},
   "outputs": [],
   "source": [
    "from MultiObectiveDeap import Nsga2Optimizer\n",
    "from fiveCompModel import FiveCompModel\n",
    "import matplotlib.pyplot as plt\n",
    "%matplotlib inline  "
   ]
  },
  {
   "cell_type": "code",
   "execution_count": 3,
   "id": "proud-ordinance",
   "metadata": {},
   "outputs": [],
   "source": [
    "cell_model = FiveCompModel()\n"
   ]
  },
  {
   "cell_type": "code",
   "execution_count": 4,
   "id": "accepted-restriction",
   "metadata": {},
   "outputs": [],
   "source": [
    "optimizer = Nsga2Optimizer(cell_model)\n"
   ]
  },
  {
   "cell_type": "code",
   "execution_count": 5,
   "id": "noticed-transportation",
   "metadata": {},
   "outputs": [
    {
     "name": "stdout",
     "output_type": "stream",
     "text": [
      "   \t      \t         R_in         \t         tau          \n",
      "   \t      \t----------------------\t----------------------\n",
      "gen\tnevals\tgen\tmin   \tnevals\tgen\tmin    \tnevals\n",
      "0  \t10    \t0  \t1.1456\t10    \t0  \t2.65063\t10    \n",
      "1  \t10    \t1  \t1.07601\t10    \t1  \t2.27169\t10    \n",
      "2  \t10    \t2  \t1.07601\t10    \t2  \t2.27169\t10    \n",
      "3  \t10    \t3  \t1.07601\t10    \t3  \t2.27169\t10    \n",
      "4  \t10    \t4  \t1.04335\t10    \t4  \t2.13023\t10    \n",
      "5  \t10    \t5  \t1.04335\t10    \t5  \t2.13023\t10    \n"
     ]
    }
   ],
   "source": [
    "\n",
    "pop, logbook = optimizer.optimize(population_size=10,offspring_size=10, n_generations=5)"
   ]
  },
  {
   "cell_type": "code",
   "execution_count": 10,
   "id": "beneficial-debut",
   "metadata": {},
   "outputs": [
    {
     "data": {
      "text/plain": [
       "0.05559846323062405"
      ]
     },
     "execution_count": 10,
     "metadata": {},
     "output_type": "execute_result"
    }
   ],
   "source": [
    "import numpy as np\n",
    "np.mean(pop)"
   ]
  },
  {
   "cell_type": "code",
   "execution_count": null,
   "id": "growing-bunch",
   "metadata": {},
   "outputs": [],
   "source": []
  }
 ],
 "metadata": {
  "kernelspec": {
   "display_name": "Python 3",
   "language": "python",
   "name": "python3"
  },
  "language_info": {
   "codemirror_mode": {
    "name": "ipython",
    "version": 3
   },
   "file_extension": ".py",
   "mimetype": "text/x-python",
   "name": "python",
   "nbconvert_exporter": "python",
   "pygments_lexer": "ipython3",
   "version": "3.7.9"
  }
 },
 "nbformat": 4,
 "nbformat_minor": 5
}
